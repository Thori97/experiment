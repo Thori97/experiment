{
 "cells": [
  {
   "cell_type": "markdown",
   "metadata": {},
   "source": [
    "# 一日目"
   ]
  },
  {
   "cell_type": "code",
   "execution_count": 83,
   "metadata": {},
   "outputs": [],
   "source": [
    "t = 26\n",
    "p = 1003\n",
    "delta = 0.289*p/(273+t)"
   ]
  },
  {
   "cell_type": "code",
   "execution_count": 84,
   "metadata": {},
   "outputs": [
    {
     "data": {
      "text/plain": [
       "0.9694548494983276"
      ]
     },
     "execution_count": 84,
     "metadata": {},
     "output_type": "execute_result"
    }
   ],
   "source": [
    "delta"
   ]
  },
  {
   "cell_type": "code",
   "execution_count": 85,
   "metadata": {},
   "outputs": [],
   "source": [
    "import matplotlib.pyplot as plt\n",
    "import numpy as np"
   ]
  },
  {
   "cell_type": "markdown",
   "metadata": {},
   "source": [
    "## 補正式"
   ]
  },
  {
   "cell_type": "markdown",
   "metadata": {},
   "source": [
    "### A2 球ギャップ"
   ]
  },
  {
   "cell_type": "code",
   "execution_count": 212,
   "metadata": {},
   "outputs": [
    {
     "data": {
      "text/plain": [
       "9.113333333333332"
      ]
     },
     "execution_count": 212,
     "metadata": {},
     "output_type": "execute_result"
    }
   ],
   "source": [
    "V2 = [\n",
    "   9.12, 8.75, 9.10, 9.08, 9.12\n",
    "]\n",
    "g2 = (9.12+9.10+9.12)/3\n",
    "g2"
   ]
  },
  {
   "cell_type": "code",
   "execution_count": 213,
   "metadata": {},
   "outputs": [
    {
     "data": {
      "text/plain": [
       "17.063333333333336"
      ]
     },
     "execution_count": 213,
     "metadata": {},
     "output_type": "execute_result"
    }
   ],
   "source": [
    "V4 = [\n",
    "    17.05, 16.84, 16.95, 17.10, 17.04\n",
    "]\n",
    "g4 = (17.05+17.10+17.04)/3\n",
    "g4"
   ]
  },
  {
   "cell_type": "code",
   "execution_count": 214,
   "metadata": {},
   "outputs": [
    {
     "data": {
      "text/plain": [
       "24.580000000000002"
      ]
     },
     "execution_count": 214,
     "metadata": {},
     "output_type": "execute_result"
    }
   ],
   "source": [
    "V6 = [\n",
    "    24.57, 24.60, 24.81, 24.57, 24.79\n",
    "]\n",
    "g6 = (V6[0]+V6[1]+V6[3])/3\n",
    "g6"
   ]
  },
  {
   "cell_type": "code",
   "execution_count": 215,
   "metadata": {},
   "outputs": [
    {
     "data": {
      "text/plain": [
       "31.356666666666666"
      ]
     },
     "execution_count": 215,
     "metadata": {},
     "output_type": "execute_result"
    }
   ],
   "source": [
    "V8 = [\n",
    "    31.03, 31.27, 31.07, 31.34, 31.46\n",
    "]\n",
    "g8 = (V8[1]+V8[3]+V8[4])/3\n",
    "g8"
   ]
  },
  {
   "cell_type": "code",
   "execution_count": 216,
   "metadata": {},
   "outputs": [
    {
     "data": {
      "text/plain": [
       "36.53333333333333"
      ]
     },
     "execution_count": 216,
     "metadata": {},
     "output_type": "execute_result"
    }
   ],
   "source": [
    "V10 = [\n",
    "    36.7, 36.6, 36.5, 36.6, 36.5\n",
    "]\n",
    "g10 = (V10[1]+V10[2]+V10[4])/3\n",
    "g10"
   ]
  },
  {
   "cell_type": "code",
   "execution_count": 217,
   "metadata": {},
   "outputs": [
    {
     "data": {
      "text/plain": [
       "41.03333333333333"
      ]
     },
     "execution_count": 217,
     "metadata": {},
     "output_type": "execute_result"
    }
   ],
   "source": [
    "V12 = [\n",
    "    41.0, 41.0, 41.1, 40.9, 40.5\n",
    "]\n",
    "g12 = (V12[0]+V12[1]+V12[2])/3\n",
    "g12"
   ]
  },
  {
   "cell_type": "code",
   "execution_count": 218,
   "metadata": {},
   "outputs": [],
   "source": [
    "gap = [2, 4, 6, 8, 10, 12]\n",
    "jikkenti = np.array([g2, g4, g6, g8, g10, g12])"
   ]
  },
  {
   "cell_type": "code",
   "execution_count": 219,
   "metadata": {},
   "outputs": [],
   "source": [
    "rironti = np.array([59, 112, 163, 211, 254, 291])\n",
    "rironti = [r*delta for r in rironti]"
   ]
  },
  {
   "cell_type": "code",
   "execution_count": 220,
   "metadata": {},
   "outputs": [
    {
     "name": "stdout",
     "output_type": "stream",
     "text": [
      "y = 7.216663362056343x-10.803713640605416\n"
     ]
    },
    {
     "data": {
      "image/png": "[encoded data removed]",
      "text/plain": [
       "<Figure size 432x288 with 1 Axes>"
      ]
     },
     "metadata": {
      "needs_background": "light"
     },
     "output_type": "display_data"
    }
   ],
   "source": [
    "plt.grid()\n",
    "a, b = np.polyfit(jikkenti, rironti, 1)\n",
    "x = np.linspace(0, 50, 100)\n",
    "y = []\n",
    "for X in x:\n",
    "    y.append(a*X+b)\n",
    "plt.plot(x, y)\n",
    "plt.scatter(jikkenti, rironti)\n",
    "print(\"y = {}x{}\".format(a, b))"
   ]
  },
  {
   "cell_type": "markdown",
   "metadata": {},
   "source": [
    "## A3 針-平板 正極性"
   ]
  },
  {
   "cell_type": "code",
   "execution_count": 221,
   "metadata": {},
   "outputs": [
    {
     "data": {
      "text/plain": [
       "7.996666666666667"
      ]
     },
     "execution_count": 221,
     "metadata": {},
     "output_type": "execute_result"
    }
   ],
   "source": [
    "pV5p = [9.05, 8.80, 7.92, 7.94, 8.13]#planeV5plus\n",
    "V5 = (pV5p[2]+pV5p[3]+pV5p[4])/3\n",
    "V5"
   ]
  },
  {
   "cell_type": "code",
   "execution_count": 222,
   "metadata": {},
   "outputs": [
    {
     "data": {
      "text/plain": [
       "11.226666666666667"
      ]
     },
     "execution_count": 222,
     "metadata": {},
     "output_type": "execute_result"
    }
   ],
   "source": [
    "pV10p = [11.79, 11.86, 11.16,11.26, 11.26]#planeV10plus\n",
    "V10 = (pV10p[2]+pV10p[3]+pV10p[4])/3\n",
    "V10"
   ]
  },
  {
   "cell_type": "code",
   "execution_count": 223,
   "metadata": {},
   "outputs": [
    {
     "data": {
      "text/plain": [
       "13.253333333333336"
      ]
     },
     "execution_count": 223,
     "metadata": {},
     "output_type": "execute_result"
    }
   ],
   "source": [
    "pV15p = [13.30, 13.37, 13.16, 13.30, 13.08]#planeV10plus\n",
    "V15 = (pV15p[0]+pV15p[2]+pV15p[3])/3\n",
    "V15"
   ]
  },
  {
   "cell_type": "code",
   "execution_count": 224,
   "metadata": {},
   "outputs": [
    {
     "data": {
      "text/plain": [
       "16.983333333333334"
      ]
     },
     "execution_count": 224,
     "metadata": {},
     "output_type": "execute_result"
    }
   ],
   "source": [
    "pV20p = [17.00, 16.92, 16.98, 17.01, 16.97]#planeV10plus\n",
    "V20 = (pV20p[0]+pV20p[2]+pV20p[4])/3\n",
    "V20"
   ]
  },
  {
   "cell_type": "code",
   "execution_count": 225,
   "metadata": {},
   "outputs": [
    {
     "data": {
      "text/plain": [
       "25.233333333333334"
      ]
     },
     "execution_count": 225,
     "metadata": {},
     "output_type": "execute_result"
    }
   ],
   "source": [
    "pV30p = [25.28, 25.2, 25.18, 25.17, 25.35]#planeV10plus\n",
    "V30 = (pV30p[2]+pV30p[3]+pV30p[4])/3\n",
    "V30"
   ]
  },
  {
   "cell_type": "code",
   "execution_count": 226,
   "metadata": {},
   "outputs": [
    {
     "name": "stdout",
     "output_type": "stream",
     "text": [
      "46.90553771130514\n",
      "70.21536037074713\n",
      "84.84113145118133\n",
      "111.75928579165148\n",
      "171.2967585286163\n"
     ]
    },
    {
     "data": {
      "text/plain": [
       "[<matplotlib.lines.Line2D at 0x1171205f8>]"
      ]
     },
     "execution_count": 226,
     "metadata": {},
     "output_type": "execute_result"
    },
    {
     "data": {
      "image/png": "[encoded data removed]",
      "text/plain": [
       "<Figure size 432x288 with 1 Axes>"
      ]
     },
     "metadata": {
      "needs_background": "light"
     },
     "output_type": "display_data"
    }
   ],
   "source": [
    "gap = [5, 10, 15, 20, 30]\n",
    "Vp = [V5, V10, V15, V20, V30]\n",
    "Vp = [a*v+b for v in Vp]\n",
    "for v in Vp:\n",
    "    print(v)\n",
    "plt.grid()\n",
    "plt.plot(gap, Vp)"
   ]
  },
  {
   "cell_type": "markdown",
   "metadata": {},
   "source": [
    "## A3 針-平板 負極性"
   ]
  },
  {
   "cell_type": "code",
   "execution_count": 211,
   "metadata": {},
   "outputs": [
    {
     "name": "stdout",
     "output_type": "stream",
     "text": [
      "10.51\n",
      "58.53530320630961\n"
     ]
    }
   ],
   "source": [
    "Vm = []\n",
    "pV5m = [10.41, 10.28, 10.25, 10.79, 10.49]#planeV5minus\n",
    "V5m = (pV5m[2]+pV5m[3]+pV5m[4])/3\n",
    "print(V5m)\n",
    "print(a*V5m+b)\n",
    "Vm.append(a*V5m+b)"
   ]
  },
  {
   "cell_type": "code",
   "execution_count": 102,
   "metadata": {},
   "outputs": [
    {
     "name": "stdout",
     "output_type": "stream",
     "text": [
      "16.623333333333335\n",
      "106.06685215949062\n"
     ]
    }
   ],
   "source": [
    "pV10m = [16.52, 16.66, 16.10, 17.18, 16.69]#planeV5minus\n",
    "V10m = (pV10m[0]+pV10m[1]+pV10m[4])/3\n",
    "print(V10m)\n",
    "print(a*V10m+b)\n",
    "Vm.append(a*V10m+b)"
   ]
  },
  {
   "cell_type": "code",
   "execution_count": 103,
   "metadata": {},
   "outputs": [
    {
     "name": "stdout",
     "output_type": "stream",
     "text": [
      "23.496666666666666\n",
      "154.26328390891973\n"
     ]
    }
   ],
   "source": [
    "pV15m = [22.72, 23,23, 23.74, 23.75, 23.83]#planeV5minus\n",
    "V15m = (pV15m[2]+pV15m[3]+pV15m[4])/3\n",
    "print(V15m)\n",
    "print(a*V15m+b)\n",
    "Vm.append(a*V15m+b)"
   ]
  },
  {
   "cell_type": "code",
   "execution_count": 104,
   "metadata": {},
   "outputs": [
    {
     "name": "stdout",
     "output_type": "stream",
     "text": [
      "28.939999999999998\n",
      "192.4324269966102\n"
     ]
    }
   ],
   "source": [
    "pV20m = [28.95, 28.57, 29.11, 29.02, 28.85]#planeV5minus\n",
    "V20m = (pV20m[0]+pV20m[3]+pV20m[4])/3\n",
    "print(V20m)\n",
    "print(a*V20m+b)\n",
    "Vm.append(a*V20m+b)"
   ]
  },
  {
   "cell_type": "code",
   "execution_count": 105,
   "metadata": {},
   "outputs": [
    {
     "name": "stdout",
     "output_type": "stream",
     "text": [
      "39.63333333333333\n",
      "267.4150424438307\n"
     ]
    }
   ],
   "source": [
    "pV30m = [36.9, 39.1, 40.1, 35.7, 39.7]#planeV5minus\n",
    "V30m = (pV30m[1]+pV30m[2]+pV30m[4])/3\n",
    "print(V30m)\n",
    "print(a*V30m+b)\n",
    "Vm.append(a*V30m+b)"
   ]
  },
  {
   "cell_type": "code",
   "execution_count": 106,
   "metadata": {},
   "outputs": [
    {
     "data": {
      "text/plain": [
       "<matplotlib.legend.Legend at 0x115a9ff60>"
      ]
     },
     "execution_count": 106,
     "metadata": {},
     "output_type": "execute_result"
    },
    {
     "data": {
      "image/png": "[encoded data removed]",
      "text/plain": [
       "<Figure size 432x288 with 1 Axes>"
      ]
     },
     "metadata": {
      "needs_background": "light"
     },
     "output_type": "display_data"
    }
   ],
   "source": [
    "gap = [5, 10, 15, 20, 30]\n",
    "plt.grid()\n",
    "plt.plot(gap, Vp, label = \"first\")\n",
    "plt.plot(gap, Vm, label = \"second\")\n",
    "plt.legend()"
   ]
  },
  {
   "cell_type": "markdown",
   "metadata": {},
   "source": [
    "## A4 SF6     マイクロメータ ゼロ点2.13"
   ]
  },
  {
   "cell_type": "code",
   "execution_count": 107,
   "metadata": {},
   "outputs": [
    {
     "name": "stdout",
     "output_type": "stream",
     "text": [
      "10.043333333333335\n",
      "59.92730013554635\n"
     ]
    }
   ],
   "source": [
    "SF6V1 = [9.79, 8.29, 10.09, 10.01, 10.03]\n",
    "SV1 = (SF6V1[2] + SF6V1[3] + SF6V1[4])/3\n",
    "print(SiV1)\n",
    "print(a*SiV1+b)"
   ]
  },
  {
   "cell_type": "code",
   "execution_count": 108,
   "metadata": {},
   "outputs": [
    {
     "name": "stdout",
     "output_type": "stream",
     "text": [
      "17.223333333333333\n",
      "110.27410614343688\n"
     ]
    }
   ],
   "source": [
    "SF6V2 = [17.22, 17.15, 17.83, 17.30, 17.82]\n",
    "SV2 = (SF6V2[0] + SF6V2[1] + SF6V2[3])/3\n",
    "print(SiV2)\n",
    "print(a*SiV2+b)"
   ]
  },
  {
   "cell_type": "code",
   "execution_count": 109,
   "metadata": {},
   "outputs": [
    {
     "name": "stdout",
     "output_type": "stream",
     "text": [
      "59.92730013554635 110.27410614343688\n"
     ]
    },
    {
     "data": {
      "text/plain": [
       "[<matplotlib.lines.Line2D at 0x116416048>]"
      ]
     },
     "execution_count": 109,
     "metadata": {},
     "output_type": "execute_result"
    },
    {
     "data": {
      "image/png": "[encoded data removed]",
      "text/plain": [
       "<Figure size 432x288 with 1 Axes>"
      ]
     },
     "metadata": {
      "needs_background": "light"
     },
     "output_type": "display_data"
    }
   ],
   "source": [
    "gap = [1, 2]\n",
    "SV = [a*SV1+b, a*SV2+b]\n",
    "plt.grid()\n",
    "print(SV[0], SV[1])\n",
    "plt.plot(gap, SV)"
   ]
  },
  {
   "cell_type": "markdown",
   "metadata": {},
   "source": [
    "## A5 碍子(がいし)"
   ]
  },
  {
   "cell_type": "code",
   "execution_count": 110,
   "metadata": {},
   "outputs": [
    {
     "name": "stdout",
     "output_type": "stream",
     "text": [
      "19.276666666666667\n",
      "124.67226422183086\n"
     ]
    }
   ],
   "source": [
    "GaV = []\n",
    "GaV_2 = []\n",
    "Gaishi1 = [19.32, 20.40, 19.16, 19.25, 19.26]\n",
    "GaV1 = (Gaishi1[0] + Gaishi1[3] + Gaishi1[4])/3\n",
    "print(GaV1)\n",
    "print(a*GaV1+b)\n",
    "GaV.append(a*GaV1+b)\n",
    "GaV_2.append(a*GaV1+b)"
   ]
  },
  {
   "cell_type": "code",
   "execution_count": 111,
   "metadata": {},
   "outputs": [
    {
     "name": "stdout",
     "output_type": "stream",
     "text": [
      "34.5\n",
      "231.4196472478458\n"
     ]
    }
   ],
   "source": [
    "Gaishi2 = [34.3, 34.5, 34.7, 36.9, 35.2]\n",
    "GaV2 = (Gaishi2[0] + Gaishi2[1] + Gaishi2[2])/3\n",
    "print(GaV2)\n",
    "print(a*GaV2+b)\n",
    "GaV.append(a*GaV2+b)\n",
    "GaV_2.append(a*GaV2+b)"
   ]
  },
  {
   "cell_type": "code",
   "execution_count": 112,
   "metadata": {},
   "outputs": [
    {
     "name": "stdout",
     "output_type": "stream",
     "text": [
      "44.43333333333334\n",
      "301.073074315401\n",
      "45.36666666666667\n",
      "307.6176916237619\n"
     ]
    }
   ],
   "source": [
    "Gaishi3 = [42.2, 43.4, 43.3, 44.4, 45.6]\n",
    "GaV3 = (Gaishi3[4] + Gaishi3[2] + Gaishi3[3])/3\n",
    "print(GaV3)\n",
    "print(a*GaV3+b)\n",
    "GaV.append(a*GaV3+b)\n",
    "\n",
    "Gaishi3_2 = [44.7, 44.2, 45.2, 45.5, 45.4]\n",
    "GaV3 = (Gaishi3_2[3] + Gaishi3_2[2] + Gaishi3_2[4])/3\n",
    "print(GaV3)\n",
    "print(a*GaV3+b)\n",
    "GaV_2.append(a*GaV3+b)"
   ]
  },
  {
   "cell_type": "code",
   "execution_count": 113,
   "metadata": {},
   "outputs": [
    {
     "data": {
      "image/png": "[encoded data removed]",
      "text/plain": [
       "<Figure size 432x288 with 1 Axes>"
      ]
     },
     "metadata": {
      "needs_background": "light"
     },
     "output_type": "display_data"
    }
   ],
   "source": [
    "Gaishi = [1, 2, 3]\n",
    "plt.grid()\n",
    "plt.plot(Gaishi, GaV, label = \"first\")\n",
    "plt.plot(Gaishi, GaV_2, label = \"second\")#碍子の傾きを直した\n",
    "plt.title(\"Insulator\")\n",
    "plt.legend()\n",
    "plt.show()"
   ]
  },
  {
   "cell_type": "markdown",
   "metadata": {},
   "source": [
    "# 二日目"
   ]
  },
  {
   "cell_type": "code",
   "execution_count": 114,
   "metadata": {},
   "outputs": [
    {
     "name": "stdout",
     "output_type": "stream",
     "text": [
      "0.9833758389261744\n"
     ]
    }
   ],
   "source": [
    "t = 25\n",
    "p = 1014\n",
    "delta = 0.289*p/(273+t)\n",
    "print(delta)"
   ]
  },
  {
   "cell_type": "code",
   "execution_count": 115,
   "metadata": {},
   "outputs": [],
   "source": [
    "rironti = np.array([59, 112, 163, 211, 254, 291])\n",
    "jikkenti = np.array([g2, g4, g6, g8, g10, g12])\n",
    "rironti = [r*delta for r in rironti]"
   ]
  },
  {
   "cell_type": "code",
   "execution_count": 116,
   "metadata": {},
   "outputs": [
    {
     "name": "stdout",
     "output_type": "stream",
     "text": [
      "y = 7.11278082071871x-10.648196170472154\n"
     ]
    },
    {
     "data": {
      "image/png": "[encoded data removed]",
      "text/plain": [
       "<Figure size 432x288 with 1 Axes>"
      ]
     },
     "metadata": {
      "needs_background": "light"
     },
     "output_type": "display_data"
    }
   ],
   "source": [
    "plt.grid()\n",
    "a, b = np.polyfit(jikkenti, rironti, 1)\n",
    "x = np.linspace(0, 50, 100)\n",
    "y = []\n",
    "for X in x:\n",
    "    y.append(a*X+b)\n",
    "plt.plot(x, y)\n",
    "plt.scatter(jikkenti, rironti)\n",
    "print(\"y = {}x{}\".format(a, b))"
   ]
  },
  {
   "cell_type": "markdown",
   "metadata": {},
   "source": [
    "## A6電解液"
   ]
  },
  {
   "cell_type": "code",
   "execution_count": 123,
   "metadata": {},
   "outputs": [
    {
     "name": "stdout",
     "output_type": "stream",
     "text": [
      "5.406666666666666\n",
      "27.808238800213665\n"
     ]
    }
   ],
   "source": [
    "A6s = []\n",
    "gap = []\n",
    "A6sV = [5.43, 5.29, 5.50, 4.99]#A6 salt 5cm\n",
    "A6sV = (A6sV[0]+A6sV[1]+A6sV[2])/3\n",
    "print(A6sV)\n",
    "print(a*A6sV+b)\n",
    "gap.append(5)\n",
    "A6s.append(a*A6sV+b)"
   ]
  },
  {
   "cell_type": "code",
   "execution_count": 124,
   "metadata": {},
   "outputs": [
    {
     "name": "stdout",
     "output_type": "stream",
     "text": [
      "6.193333333333334\n",
      "33.40362637917906\n"
     ]
    }
   ],
   "source": [
    "A6sV = [6.88, 6.02, 6.44, 6.28, 6.28]#A6 salt\n",
    "A6sV = (A6sV[1]+A6sV[3]+A6sV[4])/3\n",
    "print(A6sV)\n",
    "print(a*A6sV+b)\n",
    "gap.append(10)\n",
    "A6s.append(a*A6sV+b)"
   ]
  },
  {
   "cell_type": "code",
   "execution_count": 125,
   "metadata": {},
   "outputs": [
    {
     "name": "stdout",
     "output_type": "stream",
     "text": [
      "7.489999999999999\n",
      "42.626532176710974\n"
     ]
    }
   ],
   "source": [
    "A6sV = [7.78, 7.74, 7.51, 7.44, 7.52]#A6 salt\n",
    "A6sV = (A6sV[2]+A6sV[3]+A6sV[4])/3\n",
    "print(A6sV)\n",
    "print(a*A6sV+b)\n",
    "gap.append(20)\n",
    "A6s.append(a*A6sV+b)"
   ]
  },
  {
   "cell_type": "code",
   "execution_count": 126,
   "metadata": {},
   "outputs": [
    {
     "name": "stdout",
     "output_type": "stream",
     "text": [
      "8.933333333333332\n",
      "52.89264582794831\n"
     ]
    }
   ],
   "source": [
    "A6sV = [8.81, 8.94, 9.17, 8.94, 8.92]#A6 salt\n",
    "A6sV = (A6sV[1]+A6sV[3]+A6sV[4])/3\n",
    "print(A6sV)\n",
    "print(a*A6sV+b)\n",
    "gap.append(30)\n",
    "A6s.append(a*A6sV+b)"
   ]
  },
  {
   "cell_type": "code",
   "execution_count": 127,
   "metadata": {},
   "outputs": [
    {
     "name": "stdout",
     "output_type": "stream",
     "text": [
      "11.736666666666666\n",
      "72.8321413953631\n"
     ]
    }
   ],
   "source": [
    "A6sV = [11.25, 11.67, 11.57, 11.73, 11.81]#A6 salt\n",
    "A6sV = (A6sV[1]+A6sV[3]+A6sV[4])/3\n",
    "print(A6sV)\n",
    "print(a*A6sV+b)\n",
    "gap.append(60)\n",
    "A6s.append(a*A6sV+b)"
   ]
  },
  {
   "cell_type": "code",
   "execution_count": 128,
   "metadata": {},
   "outputs": [
    {
     "data": {
      "image/png": "[encoded data removed]",
      "text/plain": [
       "<Figure size 432x288 with 1 Axes>"
      ]
     },
     "metadata": {
      "needs_background": "light"
     },
     "output_type": "display_data"
    }
   ],
   "source": [
    "plt.grid()\n",
    "plt.plot(gap, A6s)\n",
    "plt.title(\"A6A\")\n",
    "#plt.legend()\n",
    "plt.show()"
   ]
  },
  {
   "cell_type": "markdown",
   "metadata": {},
   "source": [
    "## A6アクリル"
   ]
  },
  {
   "cell_type": "code",
   "execution_count": 134,
   "metadata": {},
   "outputs": [
    {
     "name": "stdout",
     "output_type": "stream",
     "text": [
      "6.18\n",
      "33.30878930156947\n"
     ]
    }
   ],
   "source": [
    "A6a = []\n",
    "gapb = []\n",
    "A6aV = [6.35, 6.06, 6.13, 7.41, 7.00]#A6 acril 5cm\n",
    "A6aV = (A6aV[0]+A6aV[1]+A6aV[2])/3\n",
    "print(A6aV)\n",
    "print(a*A6aV+b)\n",
    "gapb.append(5)\n",
    "A6a.append(a*A6aV+b)"
   ]
  },
  {
   "cell_type": "code",
   "execution_count": 135,
   "metadata": {},
   "outputs": [
    {
     "name": "stdout",
     "output_type": "stream",
     "text": [
      "10.950000000000001\n",
      "67.23675381639774\n"
     ]
    }
   ],
   "source": [
    "A6aV = [11.34, 11.30, 10.21, 11.03, 11.51]\n",
    "A6aV = (A6aV[0]+A6aV[1]+A6aV[2])/3\n",
    "print(A6aV)\n",
    "print(a*A6aV+b)\n",
    "gapb.append(10)\n",
    "A6a.append(a*A6aV+b)"
   ]
  },
  {
   "cell_type": "code",
   "execution_count": 136,
   "metadata": {},
   "outputs": [
    {
     "name": "stdout",
     "output_type": "stream",
     "text": [
      "20.349999999999998\n",
      "134.09689353115357\n"
     ]
    }
   ],
   "source": [
    "A6aV = [20.28, 20.99, 20.81, 20.38, 20.39]\n",
    "A6aV = (A6aV[0]+A6aV[3]+A6aV[4])/3\n",
    "print(A6aV)\n",
    "print(a*A6aV+b)\n",
    "gapb.append(20)\n",
    "A6a.append(a*A6aV+b)"
   ]
  },
  {
   "cell_type": "code",
   "execution_count": 137,
   "metadata": {},
   "outputs": [
    {
     "name": "stdout",
     "output_type": "stream",
     "text": [
      "27.406666666666666\n",
      "184.2894168560253\n"
     ]
    }
   ],
   "source": [
    "A6aV = [27.41, 27.10, 27.39, 27.42, 26.98]\n",
    "A6aV = (A6aV[0]+A6aV[2]+A6aV[3])/3\n",
    "print(A6aV)\n",
    "print(a*A6aV+b)\n",
    "gapb.append(30)\n",
    "A6a.append(a*A6aV+b)"
   ]
  },
  {
   "cell_type": "code",
   "execution_count": 138,
   "metadata": {},
   "outputs": [
    {
     "data": {
      "image/png": "[encoded data removed]",
      "text/plain": [
       "<Figure size 432x288 with 1 Axes>"
      ]
     },
     "metadata": {
      "needs_background": "light"
     },
     "output_type": "display_data"
    }
   ],
   "source": [
    "plt.grid()\n",
    "plt.plot(gap, A6s, label = \"a\")\n",
    "plt.plot(gapb, A6a, label = \"b\")\n",
    "plt.title(\"A6\")\n",
    "plt.legend()\n",
    "plt.show()"
   ]
  },
  {
   "cell_type": "markdown",
   "metadata": {},
   "source": [
    "## B1 針-平板 プラス"
   ]
  },
  {
   "cell_type": "code",
   "execution_count": 139,
   "metadata": {},
   "outputs": [
    {
     "name": "stdout",
     "output_type": "stream",
     "text": [
      "7.1066666666666665\n",
      "39.899966195435475\n"
     ]
    }
   ],
   "source": [
    "B1p = []\n",
    "gapp = []\n",
    "B1pV = [7.53, 7.23, 7.06, 5.99, 6.13, 7.03]#B1 plus\n",
    "B1pV = (B1pV[1]+B1pV[2]+B1pV[5])/3\n",
    "print(B1pV)\n",
    "print(a*B1pV+b)\n",
    "gapp.append(3)\n",
    "B1p.append(a*B1pV+b)"
   ]
  },
  {
   "cell_type": "code",
   "execution_count": 140,
   "metadata": {},
   "outputs": [
    {
     "name": "stdout",
     "output_type": "stream",
     "text": [
      "9.166666666666666\n",
      "54.55229468611602\n"
     ]
    }
   ],
   "source": [
    "B1pV = [9.19, 9.49, 9.41, 9.12, 9.19]#B1 plus\n",
    "B1pV = (B1pV[0]+B1pV[3]+B1pV[4])/3\n",
    "print(B1pV)\n",
    "print(a*B1pV+b)\n",
    "gapp.append(5)\n",
    "B1p.append(a*B1pV+b)"
   ]
  },
  {
   "cell_type": "code",
   "execution_count": 141,
   "metadata": {},
   "outputs": [
    {
     "name": "stdout",
     "output_type": "stream",
     "text": [
      "13.200000000000001\n",
      "83.24051066301482\n"
     ]
    }
   ],
   "source": [
    "B1pV = [13.19, 13.01, 13.24, 13.17, 13.70]#B1 plus\n",
    "B1pV = (B1pV[0]+B1pV[2]+B1pV[3])/3\n",
    "print(B1pV)\n",
    "print(a*B1pV+b)\n",
    "gapp.append(10)\n",
    "B1p.append(a*B1pV+b)"
   ]
  },
  {
   "cell_type": "code",
   "execution_count": 142,
   "metadata": {},
   "outputs": [
    {
     "name": "stdout",
     "output_type": "stream",
     "text": [
      "16.929999999999996\n",
      "109.77118312429556\n"
     ]
    }
   ],
   "source": [
    "B1pV = [16.32, 17.00, 16.86, 17.24, 16.69]#B1 plus\n",
    "B1pV = (B1pV[2]+B1pV[3]+B1pV[4])/3\n",
    "print(B1pV)\n",
    "print(a*B1pV+b)\n",
    "gapp.append(15)\n",
    "B1p.append(a*B1pV+b)"
   ]
  },
  {
   "cell_type": "code",
   "execution_count": 143,
   "metadata": {},
   "outputs": [
    {
     "name": "stdout",
     "output_type": "stream",
     "text": [
      "19.16333333333333\n",
      "125.6563936239007\n"
     ]
    }
   ],
   "source": [
    "B1pV = [19.83, 19.72, 17.94, 19.23, 19.53, 20.12]#B1 plus\n",
    "B1pV = (B1pV[0]+B1pV[1]+B1pV[2])/3\n",
    "print(B1pV)\n",
    "print(a*B1pV+b)\n",
    "gapp.append(20)\n",
    "B1p.append(a*B1pV+b)"
   ]
  },
  {
   "cell_type": "code",
   "execution_count": 144,
   "metadata": {},
   "outputs": [
    {
     "name": "stdout",
     "output_type": "stream",
     "text": [
      "24.44333333333333\n",
      "163.2118763572955\n"
     ]
    }
   ],
   "source": [
    "B1pV = [23.79, 24.20, 24.31]#B1 plus 別のところで放電してしまった\n",
    "B1pV = [24.44, 24.38, 24.51, 24.37, 24.69]\n",
    "B1pV = (B1pV[0]+B1pV[1]+B1pV[2])/3\n",
    "print(B1pV)\n",
    "print(a*B1pV+b)\n",
    "gapp.append(30)\n",
    "B1p.append(a*B1pV+b)"
   ]
  },
  {
   "cell_type": "markdown",
   "metadata": {},
   "source": [
    "## B1 針-平板 マイナス"
   ]
  },
  {
   "cell_type": "code",
   "execution_count": 145,
   "metadata": {},
   "outputs": [
    {
     "name": "stdout",
     "output_type": "stream",
     "text": [
      "9.826666666666668\n",
      "59.24673002779037\n"
     ]
    }
   ],
   "source": [
    "B1m = []\n",
    "gapm = []\n",
    "B1mV = [9.67, 9.74, 10.07, 9.22, 9.00]#B1 minus\n",
    "B1mV = (B1mV[1]+B1mV[2]+B1mV[0])/3\n",
    "print(B1mV)\n",
    "print(a*B1mV+b)\n",
    "gapm.append(3)\n",
    "B1m.append(a*B1mV+b)"
   ]
  },
  {
   "cell_type": "code",
   "execution_count": 146,
   "metadata": {},
   "outputs": [
    {
     "name": "stdout",
     "output_type": "stream",
     "text": [
      "14.196666666666667\n",
      "90.32958221433114\n"
     ]
    }
   ],
   "source": [
    "B1mV = [13.97, 12.94, 14.49, 14.92, 14.21, 13.90, 14.41]#B1 minus\n",
    "B1mV = (B1mV[0]+B1mV[4]+B1mV[6])/3\n",
    "print(B1mV)\n",
    "print(a*B1mV+b)\n",
    "gapm.append(5)\n",
    "B1m.append(a*B1mV+b)"
   ]
  },
  {
   "cell_type": "code",
   "execution_count": 147,
   "metadata": {},
   "outputs": [
    {
     "name": "stdout",
     "output_type": "stream",
     "text": [
      "22.52\n",
      "149.53162791211318\n"
     ]
    }
   ],
   "source": [
    "B1mV = [22.64, 22.47, 22.45, 21.98, 22.30]#B1 minus\n",
    "B1mV = (B1mV[0]+B1mV[1]+B1mV[2])/3\n",
    "print(B1mV)\n",
    "print(a*B1mV+b)\n",
    "gapm.append(10)\n",
    "B1m.append(a*B1mV+b)"
   ]
  },
  {
   "cell_type": "code",
   "execution_count": 148,
   "metadata": {},
   "outputs": [
    {
     "data": {
      "text/plain": [
       "'B1mV = [22.64, 22.47, 22.45, 21.98, 22.30]#B1 plus\\nB1mV = (B1mV[0]+B1mV[1]+B1mV[2])/3\\nprint(B1mV)\\nprint(a*B1mV+b)\\ngapm.append(10)\\nB1m.append(a*B1mV+b)'"
      ]
     },
     "execution_count": 148,
     "metadata": {},
     "output_type": "execute_result"
    }
   ],
   "source": [
    "\"\"\"B1mV = [22.64, 22.47, 22.45, 21.98, 22.30]#B1 plus\n",
    "B1mV = (B1mV[0]+B1mV[1]+B1mV[2])/3\n",
    "print(B1mV)\n",
    "print(a*B1mV+b)\n",
    "gapm.append(10)\n",
    "B1m.append(a*B1mV+b)\"\"\""
   ]
  },
  {
   "cell_type": "code",
   "execution_count": 149,
   "metadata": {},
   "outputs": [
    {
     "data": {
      "image/png": "[encoded data removed]",
      "text/plain": [
       "<Figure size 432x288 with 1 Axes>"
      ]
     },
     "metadata": {
      "needs_background": "light"
     },
     "output_type": "display_data"
    }
   ],
   "source": [
    "plt.grid()\n",
    "plt.plot(gapm, B1m, label = \"MINUS\")\n",
    "plt.plot(gapp, B1p, label = \"PLUS\")\n",
    "plt.title(\"B1\")\n",
    "plt.legend()\n",
    "plt.show()"
   ]
  },
  {
   "cell_type": "markdown",
   "metadata": {},
   "source": [
    "## B2 棒-棒 マイナス"
   ]
  },
  {
   "cell_type": "code",
   "execution_count": 150,
   "metadata": {},
   "outputs": [
    {
     "name": "stdout",
     "output_type": "stream",
     "text": [
      "6.72\n",
      "37.14969094475757\n"
     ]
    }
   ],
   "source": [
    "B2m = []\n",
    "gapm = []\n",
    "B2mV = [6.57, 6.72, 6.76, 6.68, 6.65]#B2 minus\n",
    "B2mV = (B2mV[1]+B2mV[2]+B2mV[3])/3\n",
    "print(B2mV)\n",
    "print(a*B2mV+b)\n",
    "gapm.append(3)\n",
    "B2m.append(a*B2mV+b)"
   ]
  },
  {
   "cell_type": "code",
   "execution_count": 151,
   "metadata": {},
   "outputs": [
    {
     "name": "stdout",
     "output_type": "stream",
     "text": [
      "10.143333333333334\n",
      "61.49911062101797\n"
     ]
    }
   ],
   "source": [
    "B2mV = [10.14, 10.13, 10.03, 9.59, 10.16]#B2 minus\n",
    "B2mV = (B2mV[0]+B2mV[1]+B2mV[4])/3\n",
    "print(B2mV)\n",
    "print(a*B2mV+b)\n",
    "gapm.append(5)\n",
    "B2m.append(a*B2mV+b)"
   ]
  },
  {
   "cell_type": "code",
   "execution_count": 152,
   "metadata": {},
   "outputs": [
    {
     "name": "stdout",
     "output_type": "stream",
     "text": [
      "16.970000000000002\n",
      "110.05569435712437\n"
     ]
    }
   ],
   "source": [
    "B2mV = [17.00, 16.81, 17.14, 17.09, 16.68]#B2 minus\n",
    "B2mV = (B2mV[2]+B2mV[3]+B2mV[4])/3\n",
    "print(B2mV)\n",
    "print(a*B2mV+b)\n",
    "gapm.append(10)\n",
    "B2m.append(a*B2mV+b)"
   ]
  },
  {
   "cell_type": "code",
   "execution_count": 153,
   "metadata": {},
   "outputs": [
    {
     "name": "stdout",
     "output_type": "stream",
     "text": [
      "23.12\n",
      "153.79929640454444\n"
     ]
    }
   ],
   "source": [
    "B2mV = [22.67, 22.68, 23.09, 23.19, 23.08]#B2 minus\n",
    "B2mV = (B2mV[2]+B2mV[3]+B2mV[4])/3\n",
    "print(B2mV)\n",
    "print(a*B2mV+b)\n",
    "gapm.append(15)\n",
    "B2m.append(a*B2mV+b)"
   ]
  },
  {
   "cell_type": "code",
   "execution_count": 154,
   "metadata": {},
   "outputs": [
    {
     "name": "stdout",
     "output_type": "stream",
     "text": [
      "28.5\n",
      "192.0660572200111\n"
     ]
    }
   ],
   "source": [
    "B2mV = [28.00, 28.43, 28.45, 28.62, 28.82]#B2 minus\n",
    "B2mV = (B2mV[1]+B2mV[2]+B2mV[3])/3\n",
    "print(B2mV)\n",
    "print(a*B2mV+b)\n",
    "gapm.append(20)\n",
    "B2m.append(a*B2mV+b)"
   ]
  },
  {
   "cell_type": "code",
   "execution_count": 227,
   "metadata": {},
   "outputs": [
    {
     "data": {
      "image/png": "[encoded data removed]",
      "text/plain": [
       "<Figure size 432x288 with 1 Axes>"
      ]
     },
     "metadata": {
      "needs_background": "light"
     },
     "output_type": "display_data"
    }
   ],
   "source": [
    "plt.grid()\n",
    "plt.plot(gapm, B2m, label = \"MINUS\")\n",
    "plt.title(\"B2 MINUS\")\n",
    "plt.legend()\n",
    "plt.show()"
   ]
  },
  {
   "cell_type": "markdown",
   "metadata": {},
   "source": [
    "# 四日目"
   ]
  },
  {
   "cell_type": "markdown",
   "metadata": {},
   "source": [
    "## C2球ギャップ"
   ]
  },
  {
   "cell_type": "code",
   "execution_count": 191,
   "metadata": {},
   "outputs": [],
   "source": [
    "g30 = [ #フラッシュオーバ\n",
    "    #[16, 0], \n",
    "    #[16.25, 0],\n",
    "    #[16.5, 0],\n",
    "    [16.75, 1],\n",
    "    [16.50, 1],\n",
    "    [16.25, 0],\n",
    "    [16.50, 1],\n",
    "    [16.25, 0],\n",
    "    [16.50, 0],\n",
    "    [16.75, 1],\n",
    "    [16.50, 1],\n",
    "    [16.25, 0],\n",
    "    [16.50, 0],\n",
    "    [16.75, 1],\n",
    "    [16.50, 1],\n",
    "    [16.25, 0],\n",
    "    [16.50, 0],\n",
    "    [16.75, 1],\n",
    "    [16.50, 0],\n",
    "    [16.75, 1],\n",
    "    [16.50, 0],\n",
    "    [16.75, 1],\n",
    "    [16.50, 1],\n",
    "    [16.25, 0],\n",
    "    [16.50, 0],\n",
    "    [16.75, 1],\n",
    "    [16.50, 1]\n",
    "]"
   ]
  },
  {
   "cell_type": "code",
   "execution_count": 160,
   "metadata": {},
   "outputs": [
    {
     "name": "stdout",
     "output_type": "stream",
     "text": [
      "24\n"
     ]
    },
    {
     "data": {
      "image/png": "[encoded data removed]",
      "text/plain": [
       "<Figure size 432x288 with 1 Axes>"
      ]
     },
     "metadata": {
      "needs_background": "light"
     },
     "output_type": "display_data"
    }
   ],
   "source": [
    "n30 = len(g30)\n",
    "print(n30)\n",
    "for i in range(0, n30):\n",
    "    data = g30[i]\n",
    "    if data[1] == 0:\n",
    "        plt.scatter(i , data[0], color = 'b')\n",
    "    elif data[1] == 1:\n",
    "        plt.scatter(i , data[0], color = 'r')\n",
    "plt.grid()\n",
    "plt.show()"
   ]
  },
  {
   "cell_type": "code",
   "execution_count": 161,
   "metadata": {},
   "outputs": [
    {
     "name": "stdout",
     "output_type": "stream",
     "text": [
      "11 6 6\n",
      "16.511363636363637\n"
     ]
    }
   ],
   "source": [
    "n = [0, 0, 0]#[n0, n1, n2]\n",
    "for i in range(0, n30):\n",
    "    data = g30[i]\n",
    "    if(data[1]==0):\n",
    "        if data[0] == 16.25:\n",
    "            n[0]+=1\n",
    "        elif data[0] == 16.5:\n",
    "            n[1]+=1\n",
    "        elif data[0]==16.75:\n",
    "            n[2]+=1\n",
    "N = 0\n",
    "A = 0\n",
    "B = 0\n",
    "I_ = 16.25#一番しなかったやつ\n",
    "for i in range(0, len(n)):\n",
    "    N+=n[i]\n",
    "    A+=i*n[i]\n",
    "    B+=i**2*n[i]\n",
    "print(N, A, B)\n",
    "I50_30 = I_ + 0.25*(A/N + 0.5)\n",
    "print(I50_30)"
   ]
  },
  {
   "cell_type": "code",
   "execution_count": 162,
   "metadata": {},
   "outputs": [],
   "source": [
    "g60 = [ #フラッシュオーバ\n",
    "    [30.25, 0],\n",
    "    [30.5, 0],\n",
    "    [30.75, 1],\n",
    "    [30.5, 0],\n",
    "    [30.75, 1],\n",
    "    [30.5, 1],\n",
    "    [30.25, 0],\n",
    "    [30.5, 1],\n",
    "    [30.25, 0],\n",
    "    [30.5, 1],\n",
    "    [30.25, 0],\n",
    "    [30.5, 0],\n",
    "    [30.75, 1],\n",
    "    [30.5, 1],\n",
    "    [30.75, 1],\n",
    "    [30.5, 1],\n",
    "    [30.25, 0],\n",
    "    [30.5, 1],\n",
    "    [30.25, 0],\n",
    "    [30.5, 0],\n",
    "    [30.75, 1]\n",
    "]"
   ]
  },
  {
   "cell_type": "code",
   "execution_count": 163,
   "metadata": {},
   "outputs": [
    {
     "name": "stdout",
     "output_type": "stream",
     "text": [
      "21\n"
     ]
    },
    {
     "data": {
      "image/png": "[encoded data removed]",
      "text/plain": [
       "<Figure size 432x288 with 1 Axes>"
      ]
     },
     "metadata": {
      "needs_background": "light"
     },
     "output_type": "display_data"
    }
   ],
   "source": [
    "n60 = len(g60)\n",
    "print(n60)\n",
    "for i in range(0, n60):\n",
    "    data = g60[i]\n",
    "    if data[1] == 0:\n",
    "        plt.scatter(i , data[0], color = 'b')\n",
    "    elif data[1] == 1:\n",
    "        plt.scatter(i , data[0], color = 'r')\n",
    "plt.grid()\n",
    "plt.show()"
   ]
  },
  {
   "cell_type": "code",
   "execution_count": 164,
   "metadata": {},
   "outputs": [
    {
     "name": "stdout",
     "output_type": "stream",
     "text": [
      "6 4 0\n",
      "10 4 4\n",
      "30.475\n"
     ]
    }
   ],
   "source": [
    "n = [0, 0, 0]#[n0, n1, n2]\n",
    "for i in range(0, n60):\n",
    "    data = g60[i]\n",
    "    if(data[1]==0):\n",
    "        if data[0] == 30.25:\n",
    "            n[0]+=1\n",
    "        elif data[0] == 30.5:\n",
    "            n[1]+=1\n",
    "        elif data[0]==30.75:\n",
    "            n[2]+=1\n",
    "N = 0\n",
    "A = 0\n",
    "B = 0\n",
    "I_ = 30.25#一番しなかったやつ\n",
    "print(n[0],n[1], n[2])\n",
    "for i in range(0, len(n)):\n",
    "    N+=n[i]\n",
    "    A+=i*n[i]\n",
    "    B+=i**2*n[i]\n",
    "print(N, A, B)\n",
    "I50_60 = I_ + 0.25*(A/N + 0.5)\n",
    "print(I50_60)"
   ]
  },
  {
   "cell_type": "code",
   "execution_count": 165,
   "metadata": {},
   "outputs": [],
   "source": [
    "g90 = [ #フラッシュオーバ\n",
    "    [43.5, 0],\n",
    "    [44.0, 1],\n",
    "    [43.5, 0],\n",
    "    [44.0, 1],\n",
    "    [43.5, 0],\n",
    "    [44.0, 1],\n",
    "    [43.5, 1],\n",
    "    [43, 1],\n",
    "    [42.5, 1],\n",
    "    [42, 1],\n",
    "    [41.5, 0],\n",
    "    [42, 0],\n",
    "    [42.5,0],\n",
    "    [43, 1],\n",
    "    [42.5, 0],\n",
    "    [43, 1],\n",
    "    [42.5, 0],\n",
    "    [43, 1],\n",
    "    [42.5, 0],\n",
    "    [43, 0],\n",
    "    [43.5, 0]\n",
    "]"
   ]
  },
  {
   "cell_type": "code",
   "execution_count": 166,
   "metadata": {},
   "outputs": [
    {
     "name": "stdout",
     "output_type": "stream",
     "text": [
      "21\n"
     ]
    },
    {
     "data": {
      "image/png": "[encoded data removed]",
      "text/plain": [
       "<Figure size 432x288 with 1 Axes>"
      ]
     },
     "metadata": {
      "needs_background": "light"
     },
     "output_type": "display_data"
    }
   ],
   "source": [
    "n90 = len(g90)\n",
    "print(n90)\n",
    "for i in range(0, n90):\n",
    "    data = g90[i]\n",
    "    if data[1] == 0:\n",
    "        plt.scatter(i , data[0], color = 'b')\n",
    "    elif data[1] == 1:\n",
    "        plt.scatter(i , data[0], color = 'r')\n",
    "plt.grid()\n",
    "plt.show()"
   ]
  },
  {
   "cell_type": "code",
   "execution_count": 167,
   "metadata": {},
   "outputs": [
    {
     "name": "stdout",
     "output_type": "stream",
     "text": [
      "1 1 4 1 4 0\n",
      "11 28 90\n",
      "43.02272727272727\n"
     ]
    }
   ],
   "source": [
    "n = [0, 0, 0, 0, 0, 0]#[n0, n1, n2]\n",
    "for i in range(0, n90):\n",
    "    data = g90[i]\n",
    "    if(data[1]==0):\n",
    "        if data[0] == 41.5:\n",
    "            n[0]+=1\n",
    "        elif data[0] == 42:\n",
    "            n[1]+=1\n",
    "        elif data[0]==42.5:\n",
    "            n[2]+=1\n",
    "        elif data[0] == 43:\n",
    "            n[3]+=1\n",
    "        elif data[0]==43.5:\n",
    "            n[4]+=1\n",
    "        elif data[0] == 44:\n",
    "            n[5]+=1\n",
    "N = 0\n",
    "A = 0\n",
    "B = 0\n",
    "I_ = 41.5#一番しなかったやつ\n",
    "print(n[0], n[1], n[2], n[3],n[4],n[5])\n",
    "for i in range(0, len(n)):\n",
    "    N+=n[i]\n",
    "    A+=i*n[i]\n",
    "    B+=i**2*n[i]\n",
    "print(N, A, B)\n",
    "I50_90 = I_ + 0.5*(A/N + 0.5)\n",
    "print(I50_90)"
   ]
  },
  {
   "cell_type": "code",
   "execution_count": 168,
   "metadata": {},
   "outputs": [],
   "source": [
    "I = np.array([I50_30, I50_60, I50_90])\n",
    "V = np.array([85.5, 158, 212])\n",
    "V*=delta"
   ]
  },
  {
   "cell_type": "code",
   "execution_count": 170,
   "metadata": {},
   "outputs": [
    {
     "name": "stdout",
     "output_type": "stream",
     "text": [
      "y = 4.699963619463434x+8.296080645722832\n"
     ]
    },
    {
     "data": {
      "image/png": "[encoded data removed]",
      "text/plain": [
       "<Figure size 432x288 with 1 Axes>"
      ]
     },
     "metadata": {
      "needs_background": "light"
     },
     "output_type": "display_data"
    }
   ],
   "source": [
    "a, b = np.polyfit(I, V, 1)\n",
    "x = np.linspace(0, 50, 100)\n",
    "y = []\n",
    "for X in x:\n",
    "    y.append(a*X+b)\n",
    "plt.plot(x, y)\n",
    "plt.scatter(I, V)\n",
    "plt.xlabel(\"I[$\\mu$A]\")\n",
    "plt.ylabel(\"V[kV]\")\n",
    "plt.grid()\n",
    "print(\"y = {}x+{}\".format(a, b))"
   ]
  },
  {
   "cell_type": "markdown",
   "metadata": {},
   "source": [
    "## C2球ギャップ 負極性"
   ]
  },
  {
   "cell_type": "code",
   "execution_count": 192,
   "metadata": {},
   "outputs": [],
   "source": [
    "qi = [#球inverse\n",
    "    [39, 0],\n",
    "    [39.5, 0],\n",
    "    [40, 1],\n",
    "    [39.5, 0],\n",
    "    [40, 1],\n",
    "    [39.5, 1],\n",
    "    [39, 0],\n",
    "    [39.5, 1],\n",
    "    [39, 0],\n",
    "    [39.5, 0],\n",
    "    [40, 1],\n",
    "    [39.5, 0],\n",
    "    [40, 1],\n",
    "    [39.5,0],\n",
    "    [40, 1],\n",
    "    [39.5, 0],\n",
    "    [40, 1],\n",
    "    [39.5, 1],\n",
    "    [39, 0],\n",
    "    [39.5, 0]\n",
    "]"
   ]
  },
  {
   "cell_type": "code",
   "execution_count": 193,
   "metadata": {},
   "outputs": [
    {
     "name": "stdout",
     "output_type": "stream",
     "text": [
      "20\n"
     ]
    },
    {
     "data": {
      "image/png": "[encoded data removed]",
      "text/plain": [
       "<Figure size 432x288 with 1 Axes>"
      ]
     },
     "metadata": {
      "needs_background": "light"
     },
     "output_type": "display_data"
    }
   ],
   "source": [
    "nqi = len(qi)\n",
    "print(nqi)\n",
    "for i in range(0, nqi):\n",
    "    data = qi[i]\n",
    "    if data[1] == 0:\n",
    "        plt.scatter(i , data[0], color = 'b')\n",
    "    elif data[1] == 1:\n",
    "        plt.scatter(i , data[0], color = 'r')\n",
    "plt.grid()\n",
    "plt.show()"
   ]
  },
  {
   "cell_type": "code",
   "execution_count": 173,
   "metadata": {},
   "outputs": [
    {
     "name": "stdout",
     "output_type": "stream",
     "text": [
      "4 7 0 0 0 0\n",
      "11 7 7\n",
      "39.56818181818182\n"
     ]
    }
   ],
   "source": [
    "n = [0, 0, 0, 0, 0, 0]#[n0, n1, n2]\n",
    "for i in range(0, nqi):\n",
    "    data = qi[i]\n",
    "    if(data[1]==0):\n",
    "        if data[0] == 39.0:\n",
    "            n[0]+=1\n",
    "        elif data[0] == 39.5:\n",
    "            n[1]+=1\n",
    "        elif data[0]==40.0:\n",
    "            n[2]+=1\n",
    "N = 0\n",
    "A = 0\n",
    "B = 0\n",
    "I_ = 39#一番しなかったやつ\n",
    "print(n[0], n[1], n[2], n[3],n[4],n[5])\n",
    "for i in range(0, len(n)):\n",
    "    N+=n[i]\n",
    "    A+=i*n[i]\n",
    "    B+=i**2*n[i]\n",
    "print(N, A, B)\n",
    "I_inv = I_ + 0.5*(A/N + 0.5)\n",
    "print(I_inv)"
   ]
  },
  {
   "cell_type": "code",
   "execution_count": 174,
   "metadata": {},
   "outputs": [
    {
     "data": {
      "image/png": "[encoded data removed]",
      "text/plain": [
       "<Figure size 432x288 with 1 Axes>"
      ]
     },
     "metadata": {
      "needs_background": "light"
     },
     "output_type": "display_data"
    }
   ],
   "source": [
    "plt.scatter(30, I50_30, color = 'r')\n",
    "plt.scatter(60, I50_60, color = 'r')\n",
    "plt.scatter(90, I50_90, color = 'r')\n",
    "plt.scatter(90, I_inv, color = 'b')\n",
    "plt.xlabel(\"gap[cm]\")\n",
    "plt.ylabel(\"kV\")\n",
    "plt.grid()"
   ]
  },
  {
   "cell_type": "markdown",
   "metadata": {},
   "source": [
    "# 5日目"
   ]
  },
  {
   "cell_type": "code",
   "execution_count": 194,
   "metadata": {},
   "outputs": [
    {
     "name": "stdout",
     "output_type": "stream",
     "text": [
      "0.9977380952380952\n"
     ]
    }
   ],
   "source": [
    "t = 21\n",
    "p = 1015\n",
    "delta = 0.289*p/(273+t)\n",
    "print(delta)"
   ]
  },
  {
   "cell_type": "code",
   "execution_count": 195,
   "metadata": {},
   "outputs": [
    {
     "name": "stdout",
     "output_type": "stream",
     "text": [
      "y = 4.768606837536746x+8.41724534379841\n",
      "4.768606837536746 8.41724534379841\n"
     ]
    },
    {
     "data": {
      "image/png": "[encoded data removed]",
      "text/plain": [
       "<Figure size 432x288 with 1 Axes>"
      ]
     },
     "metadata": {
      "needs_background": "light"
     },
     "output_type": "display_data"
    }
   ],
   "source": [
    "I = np.array([I50_30, I50_60, I50_90])\n",
    "V = np.array([85.5, 158, 212])\n",
    "V*=delta\n",
    "plt.grid()\n",
    "a, b = np.polyfit(I, V, 1)\n",
    "x = np.linspace(0, 50, 100)\n",
    "y = []\n",
    "for X in x:\n",
    "    y.append(a*X+b)\n",
    "plt.plot(x, y)\n",
    "plt.scatter(I, V)\n",
    "plt.xlabel(\"I[$\\mu$A]\")\n",
    "plt.ylabel(\"V[kV]\")\n",
    "print(\"y = {}x+{}\".format(a, b))\n",
    "print(a, b)"
   ]
  },
  {
   "cell_type": "markdown",
   "metadata": {},
   "source": [
    "## C3 碍子"
   ]
  },
  {
   "cell_type": "code",
   "execution_count": 196,
   "metadata": {},
   "outputs": [
    {
     "data": {
      "text/plain": [
       "33.0"
      ]
     },
     "execution_count": 196,
     "metadata": {},
     "output_type": "execute_result"
    }
   ],
   "source": [
    "198/12/500*1e3"
   ]
  },
  {
   "cell_type": "code",
   "execution_count": 197,
   "metadata": {},
   "outputs": [],
   "source": [
    "Gaishi = []"
   ]
  },
  {
   "cell_type": "code",
   "execution_count": 198,
   "metadata": {},
   "outputs": [],
   "source": [
    "G1 = [\n",
    "    [24, 1],\n",
    "    [23.5, 0],\n",
    "    [24, 0],\n",
    "    [24.5, 1],\n",
    "    [24, 1],\n",
    "    [23.5, 0],\n",
    "    [24, 1],\n",
    "    [23.5, 1],\n",
    "    [23, 0],\n",
    "    [23.5, 0],\n",
    "    [24, 0],\n",
    "    [24.5, 0],\n",
    "    [25, 1],\n",
    "    [24.5, 1],\n",
    "    [24, 0],\n",
    "    [24.5, 1],\n",
    "    [24, 1],\n",
    "    [23.5, 0],\n",
    "    [24, 0],\n",
    "    [23.5, 1],\n",
    "    [24, 0]\n",
    "]"
   ]
  },
  {
   "cell_type": "code",
   "execution_count": 199,
   "metadata": {},
   "outputs": [
    {
     "name": "stdout",
     "output_type": "stream",
     "text": [
      "21\n"
     ]
    },
    {
     "data": {
      "image/png": "[encoded data removed]",
      "text/plain": [
       "<Figure size 432x288 with 1 Axes>"
      ]
     },
     "metadata": {
      "needs_background": "light"
     },
     "output_type": "display_data"
    }
   ],
   "source": [
    "nG1 = len(G1)\n",
    "print(nG1)\n",
    "for i in range(0, nG1):\n",
    "    data = G1[i]\n",
    "    if data[1] == 0:\n",
    "        plt.scatter(i , data[0], color = 'b')\n",
    "    elif data[1] == 1:\n",
    "        plt.scatter(i , data[0], color = 'r')\n",
    "plt.grid()\n",
    "plt.show()"
   ]
  },
  {
   "cell_type": "code",
   "execution_count": 200,
   "metadata": {},
   "outputs": [
    {
     "name": "stdout",
     "output_type": "stream",
     "text": [
      "放電しなかったほうが多い\n",
      "[24, 23.5, 24.5, 23, 25]\n",
      "11 17 33\n",
      "24.022727272727273\n"
     ]
    }
   ],
   "source": [
    "n = [0, 0, 0, 0, 0, 0, 0, 0]#[n0, n1, n2]\n",
    "tmp = 0\n",
    "for data in G1:\n",
    "    if data[1] == 1:\n",
    "        tmp+=1\n",
    "    else:\n",
    "        tmp-=1\n",
    "if tmp > 0:\n",
    "    print(\"放電したほうが多い\")\n",
    "else:\n",
    "    print(\"放電しなかったほうが多い\")\n",
    "Is = []\n",
    "for data in G1:\n",
    "    if not (data[0] in Is):\n",
    "        Is.append(data[0])\n",
    "print(Is)\n",
    "Is = sorted(Is)\n",
    "lenIs = len(Is)\n",
    "for i in range(0, nG1):\n",
    "    data = G1[i]\n",
    "    if(data[1]==0):\n",
    "        if data[0] in Is:\n",
    "            n[Is.index(data[0])]+=1\n",
    "N = 0\n",
    "A = 0\n",
    "B = 0\n",
    "I_ = Is[0]#一番しなかったやつ\n",
    "for i in range(0, len(n)):\n",
    "    N+=n[i]\n",
    "    A+=i*n[i]\n",
    "    B+=i**2*n[i]\n",
    "print(N, A, B)\n",
    "I_G1 = I_ + 0.5*(A/N + 0.5)\n",
    "print(I_G1)"
   ]
  },
  {
   "cell_type": "code",
   "execution_count": 201,
   "metadata": {},
   "outputs": [],
   "source": [
    "G2 = [\n",
    "    [44, 1],\n",
    "    [43, 1],\n",
    "    [42, 0],\n",
    "    [43, 0],\n",
    "    [44, 0],\n",
    "    [45, 1],\n",
    "    [44, 0],\n",
    "    [45, 1],\n",
    "    [44, 0],\n",
    "    [45, 1],\n",
    "    [44, 0],\n",
    "    [45, 1],\n",
    "    [44, 0],\n",
    "    [45, 1],\n",
    "    [44, 1],\n",
    "    [43, 1],\n",
    "    [42, 0],\n",
    "    [43, 0],\n",
    "    [44, 0],\n",
    "    [45, 0],\n",
    "    [46, 1]\n",
    "]"
   ]
  },
  {
   "cell_type": "code",
   "execution_count": 202,
   "metadata": {},
   "outputs": [
    {
     "name": "stdout",
     "output_type": "stream",
     "text": [
      "21\n"
     ]
    },
    {
     "data": {
      "image/png": "[encoded data removed]",
      "text/plain": [
       "<Figure size 432x288 with 1 Axes>"
      ]
     },
     "metadata": {
      "needs_background": "light"
     },
     "output_type": "display_data"
    }
   ],
   "source": [
    "nG2 = len(G2)\n",
    "print(nG2)\n",
    "for i in range(0, nG2):\n",
    "    data = G2[i]\n",
    "    if data[1] == 0:\n",
    "        plt.scatter(i , data[0], color = 'b')\n",
    "    elif data[1] == 1:\n",
    "        plt.scatter(i , data[0], color = 'r')\n",
    "plt.grid()\n",
    "plt.show()"
   ]
  },
  {
   "cell_type": "code",
   "execution_count": 203,
   "metadata": {},
   "outputs": [
    {
     "name": "stdout",
     "output_type": "stream",
     "text": [
      "放電しなかったほうが多い\n",
      "[44, 43, 42, 45, 46]\n",
      "11 17 35\n",
      "44.04545454545455\n"
     ]
    }
   ],
   "source": [
    "n = [0, 0, 0, 0, 0, 0, 0, 0]#[n0, n1, n2]\n",
    "tmp = 0\n",
    "for data in G2:\n",
    "    if data[1] == 1:\n",
    "        tmp+=1\n",
    "    else:\n",
    "        tmp-=1\n",
    "if tmp > 0:\n",
    "    print(\"放電したほうが多い\")\n",
    "else:\n",
    "    print(\"放電しなかったほうが多い\")\n",
    "Is = []\n",
    "for data in G2:\n",
    "    if not (data[0] in Is):\n",
    "        Is.append(data[0])\n",
    "print(Is)\n",
    "Is = sorted(Is)\n",
    "lenIs = len(Is)\n",
    "for i in range(0, nG2):\n",
    "    data = G2[i]\n",
    "    if(data[1]==0):\n",
    "        if data[0] in Is:\n",
    "            n[Is.index(data[0])]+=1\n",
    "N = 0\n",
    "A = 0\n",
    "B = 0\n",
    "I_ = Is[0]#一番しなかったやつ\n",
    "for i in range(0, len(n)):\n",
    "    N+=n[i]\n",
    "    A+=i*n[i]\n",
    "    B+=i**2*n[i]\n",
    "print(N, A, B)\n",
    "I_G2 = I_ + 1*(A/N + 0.5)\n",
    "print(I_G2)"
   ]
  },
  {
   "cell_type": "code",
   "execution_count": 205,
   "metadata": {},
   "outputs": [
    {
     "name": "stdout",
     "output_type": "stream",
     "text": [
      "碍子の数と火花電圧\n"
     ]
    },
    {
     "data": {
      "image/png": "[encoded data removed]",
      "text/plain": [
       "<Figure size 432x288 with 1 Axes>"
      ]
     },
     "metadata": {
      "needs_background": "light"
     },
     "output_type": "display_data"
    }
   ],
   "source": [
    "Gaishi = [1, 2]\n",
    "GV = np.array([I_G1, I_G2])\n",
    "GV = a*GV + b\n",
    "plt.plot(Gaishi, GV)\n",
    "plt.grid()\n",
    "print(\"碍子の数と火花電圧\")\n",
    "plt.show()"
   ]
  },
  {
   "cell_type": "markdown",
   "metadata": {},
   "source": [
    "## C4不平等電界 (11.3cm)"
   ]
  },
  {
   "cell_type": "markdown",
   "metadata": {},
   "source": [
    "### 正極性"
   ]
  },
  {
   "cell_type": "code",
   "execution_count": 206,
   "metadata": {},
   "outputs": [],
   "source": [
    "nEP = [#no E Plus\n",
    "    [15, [0]],\n",
    "    [30, [1]],\n",
    "    [25, [1]],\n",
    "    [20, [0, 0, 0, 1, 0, 0, 1, 0, 0, 0]],\n",
    "    [22, [1, 1, 1, 1, 1, 1, 1, 1, 1, 1]],\n",
    "    [21, [1, 1, 1, 0, 0, 1, 0, 1, 1, 1]],\n",
    "    [19, [0, 0, 0, 0, 0, 0, 0, 0, 0, 0]],\n",
    "    [20.5, [1, 0, 1, 0, 1, 1, 1, 1, 0, 1, 1]],\n",
    "    [20.25, [1, 1, 1, 0, 0, 1, 0, 0, 0, 1]],\n",
    "    [19.75, [0, 0, 0, 1, 0, 0, 0, 1, 0, 1]],\n",
    "    [21.25, [1, 1, 1, 1, 1, 0, 1, 1, 0, 1]]\n",
    "]"
   ]
  },
  {
   "cell_type": "code",
   "execution_count": 207,
   "metadata": {},
   "outputs": [
    {
     "name": "stdout",
     "output_type": "stream",
     "text": [
      "50%電流は 20.358935893589358 50%電圧は 105.5010062509409\n"
     ]
    },
    {
     "data": {
      "image/png": "[encoded data removed]",
      "text/plain": [
       "<Figure size 432x288 with 1 Axes>"
      ]
     },
     "metadata": {
      "needs_background": "light"
     },
     "output_type": "display_data"
    }
   ],
   "source": [
    "effective = []\n",
    "for data in nEP:\n",
    "    mean = sum(data[1])/len(data[1])\n",
    "    if mean == 1 or mean == 0:\n",
    "        clr = 'black'\n",
    "    else:\n",
    "        clr = 'red'\n",
    "        effective.append([data[0], mean])\n",
    "    plt.scatter(data[0], mean, color = clr)\n",
    "effective = np.array(effective)\n",
    "x_effective = []\n",
    "y_effective = []\n",
    "for e in effective:\n",
    "    x_effective.append(e[0])\n",
    "    y_effective.append(e[1])\n",
    "c, d = np.polyfit(x_effective, y_effective, 1)\n",
    "x = np.linspace(15, 23, 10000)\n",
    "y = c*x+d\n",
    "plt.plot(x, y)\n",
    "cnt = 0\n",
    "for Y in y:\n",
    "    if Y > 0.5:\n",
    "        I50 = x[cnt]\n",
    "        break\n",
    "    cnt+=1\n",
    "print(\"50%電流は\", I50, \"50%電圧は\", a*I50+b)\n",
    "plt.ylim(-0.1, 1.1)\n",
    "plt.grid()\n",
    "plt.show()"
   ]
  },
  {
   "cell_type": "markdown",
   "metadata": {},
   "source": [
    "### 負極性"
   ]
  },
  {
   "cell_type": "code",
   "execution_count": 208,
   "metadata": {},
   "outputs": [],
   "source": [
    "nEM = [#no E Minus\n",
    "    [20, [0]],\n",
    "    [24, [0]],\n",
    "    [28, [0]],\n",
    "    [40, [1, 1, 1, 1, 1, 1, 1, 1, 0, 1]],\n",
    "    [37, [0, 1, 1, 1, 0, 1, 1, 0, 1, 1]],\n",
    "    #[41, [1, 1, 1, 1, 1, 0]],\n",
    "    [42, [1, 1, 1, 1, 1, 1, 1, 1, 1, 1]],\n",
    "    [35, [0, 1, 0, 0, 1, 0, 1, 1, 1, 0]],\n",
    "    [34, [1, 1, 0, 1, 1, 1, 1, 0, 0, 0]],\n",
    "    [32, [0, 0, 0, 0, 0, 0, 0, 0, 0, 0]],\n",
    "    [33, [1, 1, 1, 1, 0, 0, 1, 1, 0, 0]],\n",
    "    [32.5, [1, 0, 0, 0, 0, 0, 1, 0, 1, 0]],\n",
    "    [32.25, [0, 0, 0, 1, 1, 0, 0, 0, 0, 0]]\n",
    "]"
   ]
  },
  {
   "cell_type": "code",
   "execution_count": 209,
   "metadata": {},
   "outputs": [
    {
     "name": "stdout",
     "output_type": "stream",
     "text": [
      "50%電流は 34.75247524752475 50%電圧は 174.13813643047146\n"
     ]
    },
    {
     "data": {
      "image/png": "[encoded data removed]",
      "text/plain": [
       "<Figure size 432x288 with 1 Axes>"
      ]
     },
     "metadata": {
      "needs_background": "light"
     },
     "output_type": "display_data"
    }
   ],
   "source": [
    "effective = []\n",
    "for data in nEM:\n",
    "    mean = sum(data[1])/len(data[1])\n",
    "    if mean == 1 or mean == 0:\n",
    "        clr = 'black'\n",
    "    else:\n",
    "        clr = 'red'\n",
    "        effective.append([data[0], mean])\n",
    "    plt.scatter(data[0], mean, color = clr)\n",
    "plt.scatter(32, 0, color = 'red')\n",
    "effective = np.array(effective)\n",
    "x_effective = []\n",
    "y_effective = []\n",
    "for e in effective:\n",
    "    x_effective.append(e[0])\n",
    "    y_effective.append(e[1])\n",
    "x_effective.append(32)\n",
    "y_effective.append(0)\n",
    "c, d = np.polyfit(x_effective, y_effective, 1)\n",
    "x = np.linspace(20, 50, 10000)\n",
    "y = c*x+d\n",
    "plt.plot(x, y)\n",
    "cnt = 0\n",
    "for Y in y:\n",
    "    if Y > 0.5:\n",
    "        I50 = x[cnt]\n",
    "        break\n",
    "    cnt+=1\n",
    "print(\"50%電流は\", I50, \"50%電圧は\", a*I50+b)\n",
    "plt.ylim(-0.1, 1.1)\n",
    "plt.grid()\n",
    "plt.show()"
   ]
  },
  {
   "cell_type": "code",
   "execution_count": null,
   "metadata": {},
   "outputs": [],
   "source": []
  },
  {
   "cell_type": "code",
   "execution_count": null,
   "metadata": {},
   "outputs": [],
   "source": []
  },
  {
   "cell_type": "code",
   "execution_count": null,
   "metadata": {},
   "outputs": [],
   "source": []
  }
 ],
 "metadata": {
  "kernelspec": {
   "display_name": "Python 3",
   "language": "python",
   "name": "python3"
  },
  "language_info": {
   "codemirror_mode": {
    "name": "ipython",
    "version": 3
   },
   "file_extension": ".py",
   "mimetype": "text/x-python",
   "name": "python",
   "nbconvert_exporter": "python",
   "pygments_lexer": "ipython3",
   "version": "3.6.8"
  }
 },
 "nbformat": 4,
 "nbformat_minor": 2
}
